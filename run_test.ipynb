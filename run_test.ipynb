{
  "nbformat": 4,
  "nbformat_minor": 0,
  "metadata": {
    "colab": {
      "name": "run_test.ipynb",
      "provenance": []
    },
    "kernelspec": {
      "name": "python3",
      "display_name": "Python 3"
    },
    "language_info": {
      "name": "python"
    }
  },
  "cells": [
    {
      "cell_type": "code",
      "source": [
        "import ethichub_model\n",
        "import math\n",
        "import pandas as pd\n",
        "import matplotlib.pyplot as plt\n",
        "import numpy as np\n"
      ],
      "metadata": {
        "id": "oTVBg_bp2oNp"
      },
      "execution_count": null,
      "outputs": []
    },
    {
      "cell_type": "code",
      "metadata": {
        "id": "b3LYr9fvBrBV"
      },
      "source": [
        "# Running a simulation\n",
        "sim_config = config_sim({\n",
        "    \"N\": 1,\n",
        "    \"T\": range(100),\n",
        "    \"M\": params\n",
        "})"
      ],
      "execution_count": null,
      "outputs": []
    },
    {
      "cell_type": "code",
      "metadata": {
        "id": "1fM0ROSYBudg"
      },
      "source": [
        "experiment = Experiment()\n",
        "experiment.append_configs(\n",
        "    initial_state = initial_state,\n",
        "    partial_state_update_blocks = partial_state_update_blocks,\n",
        "    sim_configs = sim_config\n",
        ")\n",
        "\n",
        "exec_context = ExecutionContext()\n",
        "simulation = Executor(exec_context=exec_context, configs=experiment.configs)\n",
        "raw_result, tensor_field, sessions = simulation.execute()"
      ],
      "execution_count": null,
      "outputs": []
    },
    {
      "cell_type": "code",
      "metadata": {
        "id": "gntIrSTrj2zl"
      },
      "source": [
        "simulation_result = pd.DataFrame(raw_result)"
      ],
      "execution_count": null,
      "outputs": []
    },
    {
      "cell_type": "code",
      "metadata": {
        "id": "9U_hZFafJhlE",
        "colab": {
          "base_uri": "https://localhost:8080/",
          "height": 297
        },
        "outputId": "6ef7e02b-8cf3-49d8-a797-dbd11f0a57c9"
      },
      "source": [
        "simulation_result.plot(\n",
        "    kind='line',\n",
        "    x='timestep',\n",
        "    \n",
        "    y='orig_pool_ETHIX')"
      ],
      "execution_count": null,
      "outputs": [
        {
          "output_type": "execute_result",
          "data": {
            "text/plain": [
              "<matplotlib.axes._subplots.AxesSubplot at 0x7f0640daa650>"
            ]
          },
          "metadata": {},
          "execution_count": 14
        },
        {
          "output_type": "display_data",
          "data": {
            "image/png": "[encoded data removed]",
            "text/plain": [
              "<Figure size 432x288 with 1 Axes>"
            ]
          },
          "metadata": {
            "needs_background": "light"
          }
        }
      ]
    },
    {
      "cell_type": "code",
      "metadata": {
        "id": "TgAFcMLhJhYc",
        "colab": {
          "base_uri": "https://localhost:8080/",
          "height": 297
        },
        "outputId": "b2dcfff2-c44f-46e3-bcb6-aa3377cbfe67"
      },
      "source": [
        "simulation_result.plot(\n",
        "    kind='line',\n",
        "    x='timestep',\n",
        "    \n",
        "    y='liquidity_pool_DAI')"
      ],
      "execution_count": null,
      "outputs": [
        {
          "output_type": "execute_result",
          "data": {
            "text/plain": [
              "<matplotlib.axes._subplots.AxesSubplot at 0x7f0640d04190>"
            ]
          },
          "metadata": {},
          "execution_count": 15
        },
        {
          "output_type": "display_data",
          "data": {
            "image/png": "[encoded data removed]",
            "text/plain": [
              "<Figure size 432x288 with 1 Axes>"
            ]
          },
          "metadata": {
            "needs_background": "light"
          }
        }
      ]
    },
    {
      "cell_type": "code",
      "metadata": {
        "id": "A2_1OWqrKGeM",
        "colab": {
          "base_uri": "https://localhost:8080/",
          "height": 308
        },
        "outputId": "f9eca0b7-a618-453c-c6ae-b224be761d08"
      },
      "source": [
        "simulation_result.plot(\n",
        "    kind='line',\n",
        "    x='timestep',\n",
        "    \n",
        "    y='comp_reserve_ETHIX'\n",
        "    )"
      ],
      "execution_count": null,
      "outputs": [
        {
          "output_type": "execute_result",
          "data": {
            "text/plain": [
              "<matplotlib.axes._subplots.AxesSubplot at 0x7f0641522150>"
            ]
          },
          "metadata": {},
          "execution_count": 16
        },
        {
          "output_type": "display_data",
          "data": {
            "image/png": "[encoded data removed]",
            "text/plain": [
              "<Figure size 432x288 with 1 Axes>"
            ]
          },
          "metadata": {
            "needs_background": "light"
          }
        }
      ]
    }
  ]
}